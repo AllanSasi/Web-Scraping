{
 "cells": [
  {
   "cell_type": "markdown",
   "metadata": {},
   "source": [
    "# From yourquote.in"
   ]
  },
  {
   "cell_type": "code",
   "execution_count": 49,
   "metadata": {},
   "outputs": [
    {
     "name": "stdout",
     "output_type": "stream",
     "text": [
      "Words become more on count,\n",
      " but counts don't tell more! \n",
      "Swallowing thoughts, \n",
      "Still,Bonfire can't be stopped\n",
      " from curing it's hunger!\n",
      "    \n",
      "       \n"
     ]
    }
   ],
   "source": [
    "from bs4 import BeautifulSoup\n",
    "import requests\n",
    "import random\n",
    "\n",
    "class YQ():\n",
    "    def __init__(self):\n",
    "        self.response = \"\"\n",
    "        self.tag = \"\"\n",
    "        self.website_url = \"\"\n",
    "\n",
    "    def generate_url(self, tag):\n",
    "        self.tag = tag\n",
    "        self.website_url = 'https://www.yourquote.in/tags/' + self.tag + '/quotes'\n",
    "\n",
    "    def get_sourcecode(self, website_url):\n",
    "        return requests.get(website_url).content\n",
    "\n",
    "    def get_quote(self, tag):\n",
    "        self.generate_url(tag)\n",
    "        source_code = self.get_sourcecode(self.website_url)\n",
    "        soup = BeautifulSoup(source_code, 'html.parser')\n",
    "        quotes = soup.find_all('img', class_=\"quote-media-section\")\n",
    "      \n",
    "        quotes_list = []\n",
    "        for quote in quotes:\n",
    "            quotes_list.append(quote['title'])\n",
    "      \n",
    "        return quotes_list[random.randint(0, len(quotes)-1)]\n",
    "\n",
    "# Usage\n",
    "yourquote = YQ()\n",
    "quote = yourquote.get_quote('random')\n",
    "print(quote)"
   ]
  }
 ],
 "metadata": {
  "kernelspec": {
   "display_name": "Python 3",
   "language": "python",
   "name": "python3"
  },
  "language_info": {
   "codemirror_mode": {
    "name": "ipython",
    "version": 3
   },
   "file_extension": ".py",
   "mimetype": "text/x-python",
   "name": "python",
   "nbconvert_exporter": "python",
   "pygments_lexer": "ipython3",
   "version": "3.6.0"
  }
 },
 "nbformat": 4,
 "nbformat_minor": 2
}
